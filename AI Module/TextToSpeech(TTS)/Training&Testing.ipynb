{
  "cells": [
    {
      "cell_type": "markdown",
      "id": "992aa66c",
      "metadata": {},
      "source": [
        "# **Human Exploration Rover Challenge (HERC)**\n"
      ]
    },
    {
      "cell_type": "markdown",
      "id": "c71bab3b",
      "metadata": {},
      "source": [
        "## **IEEE ESPRIT SB TEAM**  \n",
        " ![esprit.png](data:image/png;base64,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)"
      ]
    },
    {
      "cell_type": "markdown",
      "id": "f79d99ef",
      "metadata": {
        "id": "f79d99ef"
      },
      "source": [
        "# TTS Training\n",
        "\n",
        "\n",
        "In this notebook, we will:\n",
        "\n",
        "1. Download data and format it for  TTS.\n",
        "2. Configure the training and testing runs.\n",
        "3. Train a new model.\n",
        "4. Test the model and display its performance."
      ]
    },
    {
      "cell_type": "code",
      "execution_count": null,
      "id": "fa2aec78",
      "metadata": {
        "id": "fa2aec78"
      },
      "outputs": [],
      "source": [
        "! pip install -U pip\n",
        "! pip install TTS"
      ]
    },
    {
      "cell_type": "markdown",
      "id": "be5fe49c",
      "metadata": {
        "id": "be5fe49c"
      },
      "source": [
        "## ✅ Data Preparation\n",
        "\n",
        "### **First things first**: we need some data.\n",
        "\n",
        "We're training a Text-to-Speech model, so we need some _text_ and we need some _speech_. Specificially, we want _transcribed speech_. The speech must be divided into audio clips and each clip needs transcription. \n",
        "\n",
        "The data format we will be adopting for this tutorial is taken from the widely-used  **LJSpeech** dataset, where **waves** are collected under a folder:\n",
        "\n",
        "<span style=\"color:purple;font-size:15px\">\n",
        "/wavs<br />\n",
        " &emsp;| - audio1.wav<br />\n",
        " &emsp;| - audio2.wav<br />\n",
        " &emsp;| - audio3.wav<br />\n",
        "  ...<br />\n",
        "</span>\n",
        "\n",
        "and a **metadata.csv** file will have the audio file name in parallel to the transcript, delimited by `|`:\n",
        "\n",
        "<span style=\"color:purple;font-size:15px\">\n",
        "# metadata.csv <br />\n",
        "audio1|This is my sentence. <br />\n",
        "audio2|This is maybe my sentence. <br />\n",
        "audio3|This is certainly my sentence. <br />\n",
        "audio4|Let this be your sentence. <br />\n",
        "...\n",
        "</span>\n",
        "\n",
        "In the end, we should have the following **folder structure**:\n",
        "\n",
        "<span style=\"color:purple;font-size:15px\">\n",
        "/MyTTSDataset <br />\n",
        "&emsp;| <br />\n",
        "&emsp;| -> metadata.csv<br />\n",
        "&emsp;| -> /wavs<br />\n",
        "&emsp;&emsp;| -> audio1.wav<br />\n",
        "&emsp;&emsp;| -> audio2.wav<br />\n",
        "&emsp;&emsp;| ...<br />\n",
        "</span>"
      ]
    },
    {
      "cell_type": "markdown",
      "id": "e7f226c8-4e55-48fa-937b-8415d539b17c",
      "metadata": {
        "id": "e7f226c8-4e55-48fa-937b-8415d539b17c"
      },
      "source": [
        "## Dataset\n"
      ]
    },
    {
      "cell_type": "code",
      "execution_count": null,
      "id": "b3cb0191-b8fc-4158-bd26-8423c2a8ba66",
      "metadata": {
        "id": "b3cb0191-b8fc-4158-bd26-8423c2a8ba66"
      },
      "outputs": [],
      "source": [
        "import os\n",
        "\n",
        "# BaseDatasetConfig: defines name, formatter and path of the dataset.\n",
        "from TTS.tts.configs.shared_configs import BaseDatasetConfig\n",
        "\n",
        "output_path = \"tts_train_dir\"\n",
        "\n",
        "if not os.path.exists(output_path):\n",
        "    os.makedirs(output_path)\n",
        "!tar -bz2 tts_train_dir/LJSpeech-1.1.tar.bz2 "
      ]
    },
    {
      "cell_type": "code",
      "execution_count": null,
      "id": "76cd3ab5-6387-45f1-b488-24734cc1beb5",
      "metadata": {
        "id": "76cd3ab5-6387-45f1-b488-24734cc1beb5"
      },
      "outputs": [],
      "source": [
        "dataset_config = BaseDatasetConfig(\n",
        "    formatter=\"ljspeech\", meta_file_train=\"metadata.csv\", path=os.path.join(output_path, \"LJSpeech-1.1/\")\n",
        ")"
      ]
    },
    {
      "cell_type": "markdown",
      "id": "ae82fd75",
      "metadata": {
        "id": "ae82fd75"
      },
      "source": [
        "## ✅ Training\n",
        "we will be using `GlowTTS`."
      ]
    },
    {
      "cell_type": "markdown",
      "id": "f5876e46-2aee-4bcf-b6b3-9e3c535c553f",
      "metadata": {
        "id": "f5876e46-2aee-4bcf-b6b3-9e3c535c553f"
      },
      "source": [
        "We will begin by initializing the model training configuration."
      ]
    },
    {
      "cell_type": "code",
      "execution_count": null,
      "id": "5483ca28-39d6-49f8-a18e-4fb53c50ad84",
      "metadata": {
        "id": "5483ca28-39d6-49f8-a18e-4fb53c50ad84"
      },
      "outputs": [],
      "source": [
        "# GlowTTSConfig: all model related values for training, validating and testing.\n",
        "from TTS.tts.configs.glow_tts_config import GlowTTSConfig\n",
        "config = GlowTTSConfig(\n",
        "    batch_size=32,\n",
        "    eval_batch_size=16,\n",
        "    num_loader_workers=4,\n",
        "    num_eval_loader_workers=4,\n",
        "    run_eval=True,\n",
        "    test_delay_epochs=-1,\n",
        "    epochs=100,\n",
        "    text_cleaner=\"phoneme_cleaners\",\n",
        "    use_phonemes=True,\n",
        "    phoneme_language=\"en-us\",\n",
        "    phoneme_cache_path=os.path.join(output_path, \"phoneme_cache\"),\n",
        "    print_step=25,\n",
        "    print_eval=False,\n",
        "    mixed_precision=True,\n",
        "    output_path=output_path,\n",
        "    datasets=[dataset_config],\n",
        "    save_step=1000,\n",
        ")"
      ]
    },
    {
      "cell_type": "markdown",
      "id": "b93ed377-80b7-447b-bd92-106bffa777ee",
      "metadata": {
        "id": "b93ed377-80b7-447b-bd92-106bffa777ee"
      },
      "source": [
        "Next we will initialize the audio processor which is used for feature extraction and audio I/O."
      ]
    },
    {
      "cell_type": "code",
      "execution_count": null,
      "id": "b1b12f61-f851-4565-84dd-7640947e04ab",
      "metadata": {
        "id": "b1b12f61-f851-4565-84dd-7640947e04ab"
      },
      "outputs": [],
      "source": [
        "from TTS.utils.audio import AudioProcessor\n",
        "ap = AudioProcessor.init_from_config(config)\n",
        "# Modify sample rate if for a custom audio dataset:\n",
        "# ap.sample_rate = 22050\n"
      ]
    },
    {
      "cell_type": "markdown",
      "id": "1d461683-b05e-403f-815f-8007bda08c38",
      "metadata": {
        "id": "1d461683-b05e-403f-815f-8007bda08c38"
      },
      "source": [
        "Next we will initialize the tokenizer which is used to convert text to sequences of token IDs.  If characters are not defined in the config, default characters are passed to the config."
      ]
    },
    {
      "cell_type": "code",
      "execution_count": null,
      "id": "014879b7-f18d-44c0-b24a-e10f8002113a",
      "metadata": {
        "id": "014879b7-f18d-44c0-b24a-e10f8002113a"
      },
      "outputs": [],
      "source": [
        "from TTS.tts.utils.text.tokenizer import TTSTokenizer\n",
        "tokenizer, config = TTSTokenizer.init_from_config(config)"
      ]
    },
    {
      "cell_type": "markdown",
      "id": "df3016e1-9e99-4c4f-94e3-fa89231fd978",
      "metadata": {
        "id": "df3016e1-9e99-4c4f-94e3-fa89231fd978"
      },
      "source": [
        "Next we will load data samples. Each sample is a list of ```[text, audio_file_path, speaker_name]```. You can define your custom sample loader returning the list of samples."
      ]
    },
    {
      "cell_type": "code",
      "execution_count": null,
      "id": "cadd6ada-c8eb-4f79-b8fe-6d72850af5a7",
      "metadata": {
        "id": "cadd6ada-c8eb-4f79-b8fe-6d72850af5a7"
      },
      "outputs": [],
      "source": [
        "from TTS.tts.datasets import load_tts_samples\n",
        "train_samples, eval_samples = load_tts_samples(\n",
        "    dataset_config,\n",
        "    eval_split=True,\n",
        "    eval_split_max_size=config.eval_split_max_size,\n",
        "    eval_split_size=config.eval_split_size,\n",
        ")"
      ]
    },
    {
      "cell_type": "markdown",
      "id": "db8b451e-1fe1-4aa3-b69e-ab22b925bd19",
      "metadata": {
        "id": "db8b451e-1fe1-4aa3-b69e-ab22b925bd19"
      },
      "source": [
        "Now we're ready to initialize the model.\n",
        "\n",
        "Models take a config object and a speaker manager as input. Config defines the details of the model like the number of layers, the size of the embedding, etc. Speaker manager is used by multi-speaker models."
      ]
    },
    {
      "cell_type": "code",
      "execution_count": null,
      "id": "ac2ffe3e-ad0c-443e-800c-9b076ee811b4",
      "metadata": {
        "id": "ac2ffe3e-ad0c-443e-800c-9b076ee811b4"
      },
      "outputs": [],
      "source": [
        "from TTS.tts.models.glow_tts import GlowTTS\n",
        "model = GlowTTS(config, ap, tokenizer, speaker_manager=None)"
      ]
    },
    {
      "cell_type": "markdown",
      "id": "e2832c56-889d-49a6-95b6-eb231892ecc6",
      "metadata": {
        "id": "e2832c56-889d-49a6-95b6-eb231892ecc6"
      },
      "source": [
        "Trainer provides a generic API to train all the TTS models with all its perks like mixed-precision training, distributed training, etc."
      ]
    },
    {
      "cell_type": "code",
      "execution_count": null,
      "id": "0f609945-4fe0-4d0d-b95e-11d7bfb63ebe",
      "metadata": {
        "id": "0f609945-4fe0-4d0d-b95e-11d7bfb63ebe"
      },
      "outputs": [],
      "source": [
        "from trainer import Trainer, TrainerArgs\n",
        "trainer = Trainer(\n",
        "    TrainerArgs(), config, output_path, model=model, train_samples=train_samples, eval_samples=eval_samples\n",
        ")"
      ]
    },
    {
      "cell_type": "code",
      "execution_count": null,
      "id": "d4c07f99-3d1d-4bea-801e-9f33bbff0e9f",
      "metadata": {
        "id": "d4c07f99-3d1d-4bea-801e-9f33bbff0e9f"
      },
      "outputs": [],
      "source": [
        "trainer.fit()"
      ]
    },
    {
      "cell_type": "markdown",
      "id": "4cff0c40-2734-40a6-a905-e945a9fb3e98",
      "metadata": {
        "id": "4cff0c40-2734-40a6-a905-e945a9fb3e98"
      },
      "source": [
        "#### 🚀 Run the Tensorboard. 🚀\n",
        "On the notebook and Tensorboard, you can monitor the progress of your model. Also Tensorboard provides certain figures and sample outputs."
      ]
    },
    {
      "cell_type": "code",
      "execution_count": null,
      "id": "5a85cd3b-1646-40ad-a6c2-49323e08eeec",
      "metadata": {
        "id": "5a85cd3b-1646-40ad-a6c2-49323e08eeec"
      },
      "outputs": [],
      "source": [
        "!pip install tensorboard\n",
        "!tensorboard --logdir=tts_train_dir"
      ]
    },
    {
      "cell_type": "markdown",
      "id": "9f6dc959",
      "metadata": {
        "id": "9f6dc959"
      },
      "source": [
        "## ✅ Test the model"
      ]
    },
    {
      "cell_type": "markdown",
      "id": "99fada7a-592f-4a09-9369-e6f3d82de3a0",
      "metadata": {
        "id": "99fada7a-592f-4a09-9369-e6f3d82de3a0"
      },
      "source": [
        "Let's get the latest saved checkpoint."
      ]
    },
    {
      "cell_type": "code",
      "execution_count": null,
      "id": "6dd47ed5-da8e-4bf9-b524-d686630d6961",
      "metadata": {
        "id": "6dd47ed5-da8e-4bf9-b524-d686630d6961"
      },
      "outputs": [],
      "source": [
        "import glob, os\n",
        "output_path = \"tts_train_dir\"\n",
        "ckpts = sorted([f for f in glob.glob(output_path+\"/*/*.pth\")])\n",
        "configs = sorted([f for f in glob.glob(output_path+\"/*/*.json\")])"
      ]
    },
    {
      "cell_type": "code",
      "execution_count": null,
      "id": "dd42bc7a",
      "metadata": {
        "id": "dd42bc7a"
      },
      "outputs": [],
      "source": [
        " !tts --text \"Text for TTS\" \\\n",
        "      --model_path $test_ckpt \\\n",
        "      --config_path $test_config \\\n",
        "      --out_path out.wav"
      ]
    },
    {
      "cell_type": "code",
      "execution_count": null,
      "id": "e0000bd6-6763-4a10-a74d-911dd08ebcff",
      "metadata": {
        "id": "e0000bd6-6763-4a10-a74d-911dd08ebcff"
      },
      "outputs": [],
      "source": [
        "import IPython\n",
        "IPython.display.Audio(\"out.wav\")"
      ]
    },
    {
      "cell_type": "code",
      "execution_count": null,
      "id": "950d9fc6-896f-4a2c-86fd-8fd1fcbbb3f7",
      "metadata": {
        "id": "950d9fc6-896f-4a2c-86fd-8fd1fcbbb3f7"
      },
      "outputs": [],
      "source": []
    }
  ],
  "metadata": {
    "colab": {
      "provenance": []
    },
    "kernelspec": {
      "display_name": "Python 3 (ipykernel)",
      "language": "python",
      "name": "python3"
    },
    "language_info": {
      "codemirror_mode": {
        "name": "ipython",
        "version": 3
      },
      "file_extension": ".py",
      "mimetype": "text/x-python",
      "name": "python",
      "nbconvert_exporter": "python",
      "pygments_lexer": "ipython3",
      "version": "3.8.10"
    }
  },
  "nbformat": 4,
  "nbformat_minor": 5
}
